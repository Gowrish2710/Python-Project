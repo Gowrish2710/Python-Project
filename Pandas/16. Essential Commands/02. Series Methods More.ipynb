{
 "cells": [
  {
   "cell_type": "markdown",
   "metadata": {},
   "source": [
    "# Series Methods More\n",
    "\n",
    "## Overview\n",
    "\n",
    "In the previous chapter, we covered the most essential and common attributes along with the statistical methods for pandas Series objects. In this chapter, we cover several other useful and common methods from the [Series API][1].\n",
    "\n",
    "Let's begin by reading in the movie dataset and selecting the `duration` series, which contains the length of each movie in minutes.\n",
    "\n",
    "[1]: http://pandas.pydata.org/pandas-docs/stable/api.html#series"
   ]
  },
  {
   "cell_type": "code",
   "execution_count": 1,
   "metadata": {},
   "outputs": [
    {
     "data": {
      "text/plain": [
       "title\n",
       "Avatar                                        178.0\n",
       "Pirates of the Caribbean: At World's End      169.0\n",
       "Spectre                                       148.0\n",
       "The Dark Knight Rises                         164.0\n",
       "Star Wars: Episode VII - The Force Awakens      NaN\n",
       "Name: duration, dtype: float64"
      ]
     },
     "execution_count": 1,
     "metadata": {},
     "output_type": "execute_result"
    }
   ],
   "source": [
    "import pandas as pd\n",
    "movie = pd.read_csv('../data/movie.csv', index_col='title')\n",
    "duration = movie['duration']\n",
    "duration.head()"
   ]
  },
  {
   "cell_type": "markdown",
   "metadata": {},
   "source": [
    "## Methods for handling missing values\n",
    "pandas provides the following methods to handle missing values:\n",
    "\n",
    "* `isna` - Returns a Series of booleans based on whether each value is missing or not\n",
    "* `notna` - Exact opposite of `isna`\n",
    "* `fillna` - Fills missing values in a variety of ways\n",
    "* `dropna` - Drops the missing values from the Series"
   ]
  },
  {
   "cell_type": "markdown",
   "metadata": {},
   "source": [
    "### Counting the number of missing values\n",
    "pandas doesn't have a single method that counts the number of missing values, so you can find it in two ways. \n",
    "\n",
    "* Use the `count` method to find the number of non-missing values and subtract this from the total number of values\n",
    "* Use the `isna` method to return a Series of booleans and chain the `sum` method"
   ]
  },
  {
   "cell_type": "code",
   "execution_count": 2,
   "metadata": {},
   "outputs": [
    {
     "data": {
      "text/plain": [
       "15"
      ]
     },
     "execution_count": 2,
     "metadata": {},
     "output_type": "execute_result"
    }
   ],
   "source": [
    "len(duration) - duration.count()"
   ]
  },
  {
   "cell_type": "code",
   "execution_count": 3,
   "metadata": {},
   "outputs": [
    {
     "data": {
      "text/plain": [
       "15"
      ]
     },
     "execution_count": 3,
     "metadata": {},
     "output_type": "execute_result"
    }
   ],
   "source": [
    "duration.isna().sum()"
   ]
  },
  {
   "cell_type": "markdown",
   "metadata": {},
   "source": [
    "### Finding the percentage of missing values\n",
    "To find the percentage of missing values in a Series we can chain the `mean` method to the `isna` method."
   ]
  },
  {
   "cell_type": "code",
   "execution_count": 4,
   "metadata": {},
   "outputs": [
    {
     "data": {
      "text/plain": [
       "0.0030512611879576893"
      ]
     },
     "execution_count": 4,
     "metadata": {},
     "output_type": "execute_result"
    }
   ],
   "source": [
    "duration.isna().mean()"
   ]
  },
  {
   "cell_type": "markdown",
   "metadata": {},
   "source": [
    "### Alternate calculation\n",
    "The last calculation might be confusing. We could have been more explicit and calculated the percentage of missing values by dividing the number missing by the total size of the Series as done below."
   ]
  },
  {
   "cell_type": "code",
   "execution_count": 5,
   "metadata": {},
   "outputs": [
    {
     "data": {
      "text/plain": [
       "0.0030512611879576893"
      ]
     },
     "execution_count": 5,
     "metadata": {},
     "output_type": "execute_result"
    }
   ],
   "source": [
    "total = len(duration)\n",
    "num_missing = total - duration.count()\n",
    "num_missing / total"
   ]
  },
  {
   "cell_type": "markdown",
   "metadata": {},
   "source": [
    "### Why does taking the mean of the boolean Series work?\n",
    "The mean is defined as the sum of all values divided by the total number of values. In the case of a boolean Series, it's sum is just the number of `True` values and in this specific example is equal to the number of missing values.\n",
    "\n",
    "## Filling missing values\n",
    "There are a number of ways that have been developed to fill missing values. Some of these are quite complex and involve using machine learning. pandas only provides a couple simple choices with the `fillna` method. In this section, we will cover how to fill in missing values with a constant. Let's output the duration Series again and see that the fifth value is missing."
   ]
  },
  {
   "cell_type": "code",
   "execution_count": 6,
   "metadata": {},
   "outputs": [
    {
     "data": {
      "text/plain": [
       "title\n",
       "Avatar                                        178.0\n",
       "Pirates of the Caribbean: At World's End      169.0\n",
       "Spectre                                       148.0\n",
       "The Dark Knight Rises                         164.0\n",
       "Star Wars: Episode VII - The Force Awakens      NaN\n",
       "Name: duration, dtype: float64"
      ]
     },
     "execution_count": 6,
     "metadata": {},
     "output_type": "execute_result"
    }
   ],
   "source": [
    "duration.head()"
   ]
  },
  {
   "cell_type": "markdown",
   "metadata": {},
   "source": [
    "Pass the `fillna` method a scalar value to fill all the missing values with that number."
   ]
  },
  {
   "cell_type": "code",
   "execution_count": 7,
   "metadata": {},
   "outputs": [
    {
     "data": {
      "text/plain": [
       "title\n",
       "Avatar                                        178.0\n",
       "Pirates of the Caribbean: At World's End      169.0\n",
       "Spectre                                       148.0\n",
       "The Dark Knight Rises                         164.0\n",
       "Star Wars: Episode VII - The Force Awakens    999.0\n",
       "Name: duration, dtype: float64"
      ]
     },
     "execution_count": 7,
     "metadata": {},
     "output_type": "execute_result"
    }
   ],
   "source": [
    "duration.fillna(999).head()"
   ]
  },
  {
   "cell_type": "markdown",
   "metadata": {},
   "source": [
    "A common strategy is to use the mean or median as the missing value replacement. Let's find the median of the Series."
   ]
  },
  {
   "cell_type": "code",
   "execution_count": 10,
   "metadata": {},
   "outputs": [
    {
     "data": {
      "text/plain": [
       "103.0"
      ]
     },
     "execution_count": 10,
     "metadata": {},
     "output_type": "execute_result"
    }
   ],
   "source": [
    "median = duration.median()\n",
    "median"
   ]
  },
  {
   "cell_type": "markdown",
   "metadata": {},
   "source": [
    "Now, we can fill in all of the missing values with the median."
   ]
  },
  {
   "cell_type": "code",
   "execution_count": 9,
   "metadata": {},
   "outputs": [
    {
     "data": {
      "text/plain": [
       "title\n",
       "Avatar                                        178.0\n",
       "Pirates of the Caribbean: At World's End      169.0\n",
       "Spectre                                       148.0\n",
       "The Dark Knight Rises                         164.0\n",
       "Star Wars: Episode VII - The Force Awakens    103.0\n",
       "Name: duration, dtype: float64"
      ]
     },
     "execution_count": 9,
     "metadata": {},
     "output_type": "execute_result"
    }
   ],
   "source": [
    "duration.fillna(median).head()"
   ]
  },
  {
   "cell_type": "markdown",
   "metadata": {},
   "source": [
    "## Dropping missing values\n",
    "The `dropna` method simply removes the values from the Series that are missing. Notice that the last value has been removed."
   ]
  },
  {
   "cell_type": "code",
   "execution_count": 11,
   "metadata": {},
   "outputs": [
    {
     "data": {
      "text/plain": [
       "title\n",
       "Avatar                                      178.0\n",
       "Pirates of the Caribbean: At World's End    169.0\n",
       "Spectre                                     148.0\n",
       "The Dark Knight Rises                       164.0\n",
       "John Carter                                 132.0\n",
       "Name: duration, dtype: float64"
      ]
     },
     "execution_count": 11,
     "metadata": {},
     "output_type": "execute_result"
    }
   ],
   "source": [
    "duration2 = duration.dropna()\n",
    "duration2.head()"
   ]
  },
  {
   "cell_type": "markdown",
   "metadata": {},
   "source": [
    "Above, we calculated that there were 15 missing values in the Series. Let's verify that the length of the new Series has decreased by this amount."
   ]
  },
  {
   "cell_type": "code",
   "execution_count": 12,
   "metadata": {},
   "outputs": [
    {
     "data": {
      "text/plain": [
       "4901"
      ]
     },
     "execution_count": 12,
     "metadata": {},
     "output_type": "execute_result"
    }
   ],
   "source": [
    "len(duration2)"
   ]
  },
  {
   "cell_type": "code",
   "execution_count": 13,
   "metadata": {},
   "outputs": [
    {
     "data": {
      "text/plain": [
       "4916"
      ]
     },
     "execution_count": 13,
     "metadata": {},
     "output_type": "execute_result"
    }
   ],
   "source": [
    "len(duration)"
   ]
  },
  {
   "cell_type": "markdown",
   "metadata": {},
   "source": [
    "## Sorting\n",
    "The `sort_values` method sorts the Series from least to greatest by default. It places missing values at the end."
   ]
  },
  {
   "cell_type": "code",
   "execution_count": 15,
   "metadata": {},
   "outputs": [
    {
     "data": {
      "text/plain": [
       "title\n",
       "The Touch           7.0\n",
       "Shaun the Sheep     7.0\n",
       "Robot Chicken      11.0\n",
       "Name: duration, dtype: float64"
      ]
     },
     "execution_count": 15,
     "metadata": {},
     "output_type": "execute_result"
    }
   ],
   "source": [
    "duration.sort_values().head(3)"
   ]
  },
  {
   "cell_type": "markdown",
   "metadata": {},
   "source": [
    "Set the `ascending` parameter to `False` to sort from greatest to least."
   ]
  },
  {
   "cell_type": "code",
   "execution_count": 14,
   "metadata": {},
   "outputs": [
    {
     "data": {
      "text/plain": [
       "title\n",
       "Trapped                511.0\n",
       "Carlos                 334.0\n",
       "Blood In, Blood Out    330.0\n",
       "Name: duration, dtype: float64"
      ]
     },
     "execution_count": 14,
     "metadata": {},
     "output_type": "execute_result"
    }
   ],
   "source": [
    "duration.sort_values(ascending=False).head(3)"
   ]
  },
  {
   "cell_type": "markdown",
   "metadata": {},
   "source": [
    "### Sorting the index\n",
    "Since Series also have an index, pandas allows you to sort by it as well with the `sort_index` method."
   ]
  },
  {
   "cell_type": "code",
   "execution_count": 16,
   "metadata": {},
   "outputs": [
    {
     "data": {
      "text/plain": [
       "title\n",
       "#Horror                  101.0\n",
       "10 Cloverfield Lane      104.0\n",
       "10 Days in a Madhouse    111.0\n",
       "Name: duration, dtype: float64"
      ]
     },
     "execution_count": 16,
     "metadata": {},
     "output_type": "execute_result"
    }
   ],
   "source": [
    "duration.sort_index().head(3)"
   ]
  },
  {
   "cell_type": "code",
   "execution_count": 17,
   "metadata": {},
   "outputs": [
    {
     "data": {
      "text/plain": [
       "title\n",
       "Æon Flux                    93.0\n",
       "xXx: State of the Union    101.0\n",
       "xXx                        132.0\n",
       "Name: duration, dtype: float64"
      ]
     },
     "execution_count": 17,
     "metadata": {},
     "output_type": "execute_result"
    }
   ],
   "source": [
    "duration.sort_index(ascending=False).head(3)"
   ]
  },
  {
   "cell_type": "markdown",
   "metadata": {},
   "source": [
    "## Exercises\n",
    "\n",
    "### Exercise 1\n",
    "<span  style=\"color:green; font-size:16px\">What percentage of actor 1 Facebook likes are missing?</span>"
   ]
  },
  {
   "cell_type": "code",
   "execution_count": 20,
   "metadata": {},
   "outputs": [
    {
     "data": {
      "text/plain": [
       "0.0014239218877135883"
      ]
     },
     "execution_count": 20,
     "metadata": {},
     "output_type": "execute_result"
    }
   ],
   "source": [
    "actor1 = movie['actor1_fb']\n",
    "actor1.isna().sum()/len(actor1)"
   ]
  },
  {
   "cell_type": "markdown",
   "metadata": {},
   "source": [
    "### Exercise 2\n",
    "<span  style=\"color:green; font-size:16px\">Use the `notna` method to find the number of non-missing values in the actor 1 Facebook like column. Verify this number is the same as the `count` method.</span>"
   ]
  },
  {
   "cell_type": "code",
   "execution_count": 22,
   "metadata": {},
   "outputs": [
    {
     "data": {
      "text/plain": [
       "4909"
      ]
     },
     "execution_count": 22,
     "metadata": {},
     "output_type": "execute_result"
    }
   ],
   "source": [
    "actor1.notna().sum()"
   ]
  },
  {
   "cell_type": "markdown",
   "metadata": {},
   "source": [
    "### Exercise 3\n",
    "<span  style=\"color:green; font-size:16px\">Use one line of code to fill the missing values of `actor1_fb` with the maximum of `actor2_fb`. Save this result to variable `actor1_fb_full`</span>"
   ]
  },
  {
   "cell_type": "code",
   "execution_count": 43,
   "metadata": {},
   "outputs": [
    {
     "data": {
      "text/plain": [
       "title\n",
       "Avatar                                          1000.0\n",
       "Pirates of the Caribbean: At World's End       40000.0\n",
       "Spectre                                        11000.0\n",
       "The Dark Knight Rises                          27000.0\n",
       "Star Wars: Episode VII - The Force Awakens       131.0\n",
       "John Carter                                      640.0\n",
       "Spider-Man 3                                   24000.0\n",
       "Tangled                                          799.0\n",
       "Avengers: Age of Ultron                        26000.0\n",
       "Harry Potter and the Half-Blood Prince         25000.0\n",
       "Batman v Superman: Dawn of Justice             15000.0\n",
       "Superman Returns                               18000.0\n",
       "Quantum of Solace                                451.0\n",
       "Pirates of the Caribbean: Dead Man's Chest     40000.0\n",
       "The Lone Ranger                                40000.0\n",
       "Man of Steel                                   15000.0\n",
       "The Chronicles of Narnia: Prince Caspian       22000.0\n",
       "The Avengers                                   26000.0\n",
       "Pirates of the Caribbean: On Stranger Tides    40000.0\n",
       "Men in Black 3                                 10000.0\n",
       "The Hobbit: The Battle of the Five Armies       5000.0\n",
       "The Amazing Spider-Man                         15000.0\n",
       "Robin Hood                                       891.0\n",
       "The Hobbit: The Desolation of Smaug             5000.0\n",
       "The Golden Compass                             16000.0\n",
       "King Kong                                       6000.0\n",
       "Titanic                                        29000.0\n",
       "Captain America: Civil War                     21000.0\n",
       "Battleship                                     14000.0\n",
       "Jurassic World                                  3000.0\n",
       "                                                ...   \n",
       "Manito                                            93.0\n",
       "Rampage                                          986.0\n",
       "Slacker                                            5.0\n",
       "Dutch Kills                                      313.0\n",
       "Dry Spell                                        370.0\n",
       "Flywheel                                          51.0\n",
       "Exeter                                           630.0\n",
       "The Ridges                                       720.0\n",
       "The Puffy Chair                                  830.0\n",
       "Stories of Our Lives                             147.0\n",
       "Breaking Upwards                                 331.0\n",
       "All Superheroes Must Die                         407.0\n",
       "Pink Flamingos                                   462.0\n",
       "Clean                                            576.0\n",
       "The Circle                                         5.0\n",
       "Tin Can Man                                       10.0\n",
       "The Cure                                          89.0\n",
       "On the Downlow                                    21.0\n",
       "Sanctuary; Quite a Conundrum                     785.0\n",
       "Bang                                             789.0\n",
       "Primer                                           291.0\n",
       "Cavite                                             0.0\n",
       "El Mariachi                                      121.0\n",
       "The Mongol King                                   45.0\n",
       "Newlyweds                                        296.0\n",
       "Signed Sealed Delivered                          637.0\n",
       "The Following                                    841.0\n",
       "A Plague So Pleasant                               0.0\n",
       "Shanghai Calling                                 946.0\n",
       "My Date with Drew                                 86.0\n",
       "Name: actor1_fb, Length: 4916, dtype: float64"
      ]
     },
     "execution_count": 43,
     "metadata": {},
     "output_type": "execute_result"
    }
   ],
   "source": [
    "actor_max = actor1.fillna(movie['actor2_fb'].max())\n",
    "actor_max\n"
   ]
  },
  {
   "cell_type": "markdown",
   "metadata": {},
   "source": [
    "### Exercise 4\n",
    "<span  style=\"color:green; font-size:16px\">Verify the results of problem 3 by selecting just the values of `actor1_fb_full` that were filled by `actor2_fb`.</span>"
   ]
  },
  {
   "cell_type": "code",
   "execution_count": 44,
   "metadata": {},
   "outputs": [
    {
     "data": {
      "text/plain": [
       "title\n",
       "Pink Ribbons, Inc.         137000.0\n",
       "Sex with Strangers         137000.0\n",
       "The Harvest/La Cosecha     137000.0\n",
       "Ayurveda: Art of Being     137000.0\n",
       "The Brain That Sings       137000.0\n",
       "The Blood of My Brother    137000.0\n",
       "Counting                   137000.0\n",
       "Name: actor1_fb, dtype: float64"
      ]
     },
     "execution_count": 44,
     "metadata": {},
     "output_type": "execute_result"
    }
   ],
   "source": [
    "actor_max[movie.actor1_fb.isna()]"
   ]
  },
  {
   "cell_type": "code",
   "execution_count": null,
   "metadata": {},
   "outputs": [],
   "source": []
  }
 ],
 "metadata": {
  "kernelspec": {
   "display_name": "Python 3",
   "language": "python",
   "name": "python3"
  },
  "language_info": {
   "codemirror_mode": {
    "name": "ipython",
    "version": 3
   },
   "file_extension": ".py",
   "mimetype": "text/x-python",
   "name": "python",
   "nbconvert_exporter": "python",
   "pygments_lexer": "ipython3",
   "version": "3.7.3"
  },
  "varInspector": {
   "cols": {
    "lenName": 16,
    "lenType": 16,
    "lenVar": 40
   },
   "kernels_config": {
    "python": {
     "delete_cmd_postfix": "",
     "delete_cmd_prefix": "del ",
     "library": "var_list.py",
     "varRefreshCmd": "print(var_dic_list())"
    },
    "r": {
     "delete_cmd_postfix": ") ",
     "delete_cmd_prefix": "rm(",
     "library": "var_list.r",
     "varRefreshCmd": "cat(var_dic_list()) "
    }
   },
   "types_to_exclude": [
    "module",
    "function",
    "builtin_function_or_method",
    "instance",
    "_Feature"
   ],
   "window_display": false
  }
 },
 "nbformat": 4,
 "nbformat_minor": 2
}
